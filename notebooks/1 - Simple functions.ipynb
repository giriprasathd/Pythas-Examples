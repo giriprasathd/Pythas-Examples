{
 "cells": [
  {
   "cell_type": "markdown",
   "metadata": {},
   "source": [
    "# 1 - Simple functions"
   ]
  },
  {
   "cell_type": "markdown",
   "metadata": {},
   "source": [
    "## 1.1 - Introduction\n",
    "\n",
    "[```Pythas```](https://github.com/pinselimo/Pythas) is a Python package that can handle all the manual work to bind Haskell Modules to Python. To get you started in using Pythas, it provides an ```Examples.hs``` file inside the ```examples``` directory. Here we'll have a closer look at this file. If you don't have it, it also comes with this repo."
   ]
  },
  {
   "cell_type": "markdown",
   "metadata": {},
   "source": [
    "## 1.2 - The Examples.hs file\n",
    "\n",
    "The [```Examples.hs```](https://github.com/pinselimo/Pythas/blob/master/example/Example.hs) file is up to date with the features Pythas provides. It really is supposed to be a showcase and a quick reference of what's possible. So if you find a type annotation for a function in it, you can be assured that these types are in fact supported by Pythas.\n",
    "\n",
    "To use it, we first have to import ```pythas```:"
   ]
  },
  {
   "cell_type": "code",
   "execution_count": 1,
   "metadata": {},
   "outputs": [
    {
     "name": "stdout",
     "output_type": "stream",
     "text": [
      "Compiling with: stack\n"
     ]
    }
   ],
   "source": [
    "import pythas"
   ]
  },
  {
   "cell_type": "markdown",
   "metadata": {},
   "source": [
    "Now we can import the Haskell module we placed in a directory relative to the location of this notebook at: ```examples/Examples.hs```"
   ]
  },
  {
   "cell_type": "code",
   "execution_count": 2,
   "metadata": {},
   "outputs": [
    {
     "name": "stdout",
     "output_type": "stream",
     "text": [
      "Compiling with: stack\n"
     ]
    }
   ],
   "source": [
    "import example.example as e"
   ]
  },
  {
   "cell_type": "markdown",
   "metadata": {},
   "source": [
    "### 1.2.1 - Hello Haskell\n",
    "\n",
    "As tradition demands, our first example with be a simple 'Hello World' function. So right off the bat we're already in the unsanitory land of impure functions. Probably not the reason why you're interested in using Haskell from Python, but bear with me.\n",
    "\n",
    "This is how the function looks in the bare Haskell module file:\n",
    "\n",
    "~~~haskell\n",
    "hello :: IO ()\n",
    "hello = putStrLn \"Hello from Haskell!\"\n",
    "~~~\n",
    "\n",
    "**Important:** Note the top level type declaration. ```Pythas``` relies on it to gain information about your functions. Any function without a type declaration will be ignored (which is on purpose can be put to good use of course). Moreover, any function that cannot be exported will also be ignored (e.g. ```someComplicatedFunc``` in ```Example.hs```)\n",
    "\n",
    "We can now use this function from Python, as simple as if it were Python code all along:"
   ]
  },
  {
   "cell_type": "code",
   "execution_count": 3,
   "metadata": {},
   "outputs": [],
   "source": [
    "e.hello()"
   ]
  },
  {
   "cell_type": "markdown",
   "metadata": {},
   "source": [
    "```Hello from Haskell!``` < it says in the console"
   ]
  },
  {
   "cell_type": "markdown",
   "metadata": {},
   "source": [
    "### 1.2.2 - Pure Functions\n",
    "\n",
    "Ok, that wasn't extremely useful inside a Jupyter Notebook. But we're all here for the purity, so let's delve into the things we cannot have in Python.\n",
    "Our ```Example.hs``` file defines various pure functions. One of which is ```square``` which squares an integer:\n",
    "\n",
    "~~~haskell\n",
    "square :: CInt -> CInt\n",
    "square i = i * i\n",
    "~~~\n",
    "\n",
    "Note: It could as well be typed as ```Int -> Int``` or ```Ìnteger -> Integer``` that's all supported by Pythas!\n",
    "Can we use this function from Python now?"
   ]
  },
  {
   "cell_type": "code",
   "execution_count": 4,
   "metadata": {},
   "outputs": [
    {
     "data": {
      "text/plain": [
       "16"
      ]
     },
     "execution_count": 4,
     "metadata": {},
     "output_type": "execute_result"
    }
   ],
   "source": [
    "e.square(4)"
   ]
  },
  {
   "cell_type": "markdown",
   "metadata": {},
   "source": [
    "What about memory limits, are we safe against overflows? - Nope ;)"
   ]
  },
  {
   "cell_type": "code",
   "execution_count": 5,
   "metadata": {},
   "outputs": [
    {
     "data": {
      "text/plain": [
       "0"
      ]
     },
     "execution_count": 5,
     "metadata": {},
     "output_type": "execute_result"
    }
   ],
   "source": [
    "e.square(2**16)"
   ]
  },
  {
   "cell_type": "markdown",
   "metadata": {},
   "source": [
    "Note: While ```Integer``` types are only limited by memory in the Haskell RTS, they are translated to ```llong``` by Pythas."
   ]
  },
  {
   "cell_type": "markdown",
   "metadata": {},
   "source": [
    "You can also mix types and use ```Double```s in your code, as shown by the somewhat stupid ```multisin``` function:\n",
    "\n",
    "~~~haskell\n",
    "multisin :: Int -> Double -> Double\n",
    "multisin x y = (fromIntegral x) * (sin y)\n",
    "~~~\n",
    "\n",
    "Let's try just to see what happens:"
   ]
  },
  {
   "cell_type": "code",
   "execution_count": 6,
   "metadata": {},
   "outputs": [
    {
     "data": {
      "text/plain": [
       "3.361228784959365e-05"
      ]
     },
     "execution_count": 6,
     "metadata": {},
     "output_type": "execute_result"
    }
   ],
   "source": [
    "pi = 355/113 # close enough\n",
    "\n",
    "e.multisin(63, 2*pi)"
   ]
  },
  {
   "cell_type": "markdown",
   "metadata": {},
   "source": [
    "### 1.2.3 - Lists\n",
    "\n",
    "A big field of application for Python is of course Data Science. So it would make sense to shove a large amount of data over to Haskell all at once, right?\n",
    "\n",
    "Pythas supports lists as input and/or output types of Haskell functions. Also lists of lists, and lists of lists of lists and so on ...\n",
    "\n",
    "So e.g. you wanted to have a Haskell function that calculates the quarter of every integer in a list to return a list of doubles:\n",
    "\n",
    "~~~haskell\n",
    "mapQuarter :: [Integer] -> [Double]\n",
    "mapQuarter = map ((*0.25) . fromIntegral)\n",
    "~~~\n",
    "\n",
    "How would you call it in Python?"
   ]
  },
  {
   "cell_type": "code",
   "execution_count": 7,
   "metadata": {},
   "outputs": [
    {
     "data": {
      "text/plain": [
       "[0.0, 0.25, 0.5, 0.75, 1.0, 1.25, 1.5, 1.75, 2.0, 2.25]"
      ]
     },
     "execution_count": 7,
     "metadata": {},
     "output_type": "execute_result"
    }
   ],
   "source": [
    "e.mapQuarter(range(10))"
   ]
  },
  {
   "cell_type": "code",
   "execution_count": 8,
   "metadata": {},
   "outputs": [
    {
     "data": {
      "text/plain": [
       "[0.0, 0.25, 0.5, 0.75, 1.0, 1.25, 1.5, 1.75, 2.0, 2.25]"
      ]
     },
     "execution_count": 8,
     "metadata": {},
     "output_type": "execute_result"
    }
   ],
   "source": [
    "e.mapQuarter([x for x in range(10)])"
   ]
  },
  {
   "cell_type": "markdown",
   "metadata": {},
   "source": [
    "Any iterable type really is enough. Keep track of the types inside the iterable though, don't go too much off track, Haskell expects a list of integers nontheless:"
   ]
  },
  {
   "cell_type": "code",
   "execution_count": 9,
   "metadata": {},
   "outputs": [],
   "source": [
    "# e.mapQuarter((10,4.5)) # -> TypeError"
   ]
  },
  {
   "cell_type": "markdown",
   "metadata": {},
   "source": [
    "As mentioned, nested lists are no problem. Currently the only example using it is an identity function for lists of lists of strings:"
   ]
  },
  {
   "cell_type": "code",
   "execution_count": 10,
   "metadata": {},
   "outputs": [
    {
     "data": {
      "text/plain": [
       "[['P', 'y', 't', 'h', 'o', 'n'],\n",
       " ['H', 'a', 's', 'k', 'e', 'l', 'l'],\n",
       " ['P', 'y', 't', 'h', 'o', 'n'],\n",
       " ['H', 'a', 's', 'k', 'e', 'l', 'l']]"
      ]
     },
     "execution_count": 10,
     "metadata": {},
     "output_type": "execute_result"
    }
   ],
   "source": [
    "e.nested(['Haskell' if i%2 else 'Python' for i in range(2)]*2)"
   ]
  },
  {
   "cell_type": "markdown",
   "metadata": {},
   "source": [
    "Which brings us to our next topic:"
   ]
  },
  {
   "cell_type": "markdown",
   "metadata": {},
   "source": [
    "### 1.2.4 - Strings\n",
    "\n",
    "Strings are lists of chars in Haskell. But Pythas' Python backend ```ctypes``` doesn't quite treat them fairly. Also strings cannot be \"nested\", we already know a char is not a list and they are NUL terminated. All good reasons to treat them a little bit differently as well. \n",
    "\n",
    "As a user of Pythas you only see the example above as a reminder of the different perception of strings comparing Haskell to Python. Otherwise, strings are just strings. The ```Example.hs``` file provides a ```strings``` function, which filters out any ```Char``` matching ```'a'```. How does it work in Python?"
   ]
  },
  {
   "cell_type": "code",
   "execution_count": 11,
   "metadata": {},
   "outputs": [
    {
     "data": {
      "text/plain": [
       "'Hskell'"
      ]
     },
     "execution_count": 11,
     "metadata": {},
     "output_type": "execute_result"
    }
   ],
   "source": [
    "e.strings(\"Haskell\")"
   ]
  },
  {
   "cell_type": "markdown",
   "metadata": {},
   "source": [
    "### 1.2.5 - Tuples\n",
    "\n",
    "That's all nice, but what if I have a collection which consists of elements with differing types? Tuples to the rescue!\n",
    "\n",
    "In our ```Examples.hs``` file we find one example of a tuple as return type:\n",
    "\n",
    "~~~haskell\n",
    "tuple :: (CInt, String)\n",
    "tuple = (1 :: CInt, \"a\")\n",
    "~~~\n",
    "\n",
    "So let's try it out:"
   ]
  },
  {
   "cell_type": "code",
   "execution_count": 12,
   "metadata": {},
   "outputs": [
    {
     "data": {
      "text/plain": [
       "(1, 'a')"
      ]
     },
     "execution_count": 12,
     "metadata": {},
     "output_type": "execute_result"
    }
   ],
   "source": [
    "e.tuple()"
   ]
  },
  {
   "cell_type": "markdown",
   "metadata": {},
   "source": [
    "Tuples can also be used as arguments! A simple example is a ```snd``` \"equivalent\" ```hsnd``` which only works on ```(Int, Int)``` (dunno what that for ;) - let's just have a look:"
   ]
  },
  {
   "cell_type": "code",
   "execution_count": 13,
   "metadata": {},
   "outputs": [
    {
     "data": {
      "text/plain": [
       "63"
      ]
     },
     "execution_count": 13,
     "metadata": {},
     "output_type": "execute_result"
    }
   ],
   "source": [
    "e.hsnd((42,63))"
   ]
  },
  {
   "cell_type": "markdown",
   "metadata": {},
   "source": [
    "### 1.2.6 - About Constants\n",
    "\n",
    "Why did we have to call ```e.tuple``` if it obviously is a constant?\n",
    "\n",
    "Well let's say the ```()``` you have to add in Python is there to remind you something's going on in the ```IO``` monad. See, tuples cannot be passed by value in between Haskell and Python. So Pythas has to allocate memory on the heap, which obviously can only be done inside of ```IO```.\n",
    "\n",
    "Thus, the last important thing to note is: Constants have to be called if they are non-trivial types! (So: Strings, Lists, Tuples)"
   ]
  },
  {
   "cell_type": "code",
   "execution_count": 14,
   "metadata": {},
   "outputs": [
    {
     "data": {
      "text/plain": [
       "63"
      ]
     },
     "execution_count": 14,
     "metadata": {},
     "output_type": "execute_result"
    }
   ],
   "source": [
    "e.someConstant # Integer works fine"
   ]
  },
  {
   "cell_type": "code",
   "execution_count": 15,
   "metadata": {},
   "outputs": [
    {
     "data": {
      "text/plain": [
       "[63]"
      ]
     },
     "execution_count": 15,
     "metadata": {},
     "output_type": "execute_result"
    }
   ],
   "source": [
    "e.haskellList() # List needs allocation"
   ]
  },
  {
   "cell_type": "markdown",
   "metadata": {},
   "source": [
    "And that's it. Lists and tuples can be nested as wished in the output btw!"
   ]
  }
 ],
 "metadata": {
  "kernelspec": {
   "display_name": "Python 3",
   "language": "python",
   "name": "python3"
  },
  "language_info": {
   "codemirror_mode": {
    "name": "ipython",
    "version": 3
   },
   "file_extension": ".py",
   "mimetype": "text/x-python",
   "name": "python",
   "nbconvert_exporter": "python",
   "pygments_lexer": "ipython3",
   "version": "3.8.2"
  }
 },
 "nbformat": 4,
 "nbformat_minor": 4
}
