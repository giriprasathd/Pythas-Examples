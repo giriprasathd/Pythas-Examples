{
 "cells": [
  {
   "cell_type": "markdown",
   "metadata": {},
   "source": [
    "# Example 0: Wonderland\n",
    "\n",
    "*This is more of a teaser than an introductory example for ```Pythas```.*\n",
    "\n",
    "Years ago I started my very first Haskell Project by implementing [Sanderson's Wonderland](http://pure.iiasa.ac.at/id/eprint/3613/1/WP-92-087.pdf). Now that I've progressed a little, I took this chance to link back to this very start.\n",
    "\n",
    "One of the biggest obstacles I faced back then, was visualisation and data analysis. Since then, Python has only become more dominant in that field, so why not leverage the power of both languages in their domains?\n",
    "With ```Pythas``` it is conveniently easy to import a Haskell module and call its functions. No manual data transformations are needed.\n",
    "\n",
    "So let's see how it works!"
   ]
  },
  {
   "cell_type": "markdown",
   "metadata": {},
   "source": [
    "## Import Pythas\n",
    "\n",
    "In order to make use of ```Pythas``` obviously you have to import it first. On import it will first check if you have either ```stack``` or ```ghc``` installed and added to your ```$PATH```. Then it injects its own Importer.\n",
    "\n",
    "*Note:* If you use ```Pythas``` for the first time, the import might take a little longer. A part of the library is written in Haskell and has to be compiled first."
   ]
  },
  {
   "cell_type": "code",
   "execution_count": 1,
   "metadata": {},
   "outputs": [],
   "source": [
    "import pythas"
   ]
  },
  {
   "cell_type": "markdown",
   "metadata": {},
   "source": [
    "## Import Haskell Modules\n",
    "\n",
    "Now that ```Pythas``` has setup everything for us, we can start using Haskell code in Python! \n",
    "\n",
    "+ What, that was so easy? Yes!\n",
    "\n",
    "You import the module just as you would import it, if it was written in Python, not much magic to it:"
   ]
  },
  {
   "cell_type": "code",
   "execution_count": 2,
   "metadata": {},
   "outputs": [
    {
     "name": "stdout",
     "output_type": "stream",
     "text": [
      "Got File: /home/pinselimo/Python/Pythas-Examples/notebooks/wonderland/src/Wonderland_hasky_ffi.hs\n",
      "Compiling with: stack\n"
     ]
    }
   ],
   "source": [
    "import wonderland.src.wonderland as w"
   ]
  },
  {
   "cell_type": "markdown",
   "metadata": {},
   "source": [
    "### Wait what? How?\n",
    "\n",
    "Let's take a look at the Haskell file we are importing. The important parts are:\n",
    "\n",
    "~~~haskell\n",
    "module Wonderland where\n",
    "...\n",
    "runWonderland :: String -> Int -> [(Double, Double, Double, Double)]\n",
    "~~~\n",
    "\n",
    "```Pythas``` parses your module file for all the top level type declarations. It then creates a new module containing appropriate ```foreign export ccall```s and wrapping functions. This module is then compiled into a shared library which can be imported into Python.\n",
    "\n",
    "On the other side of the river, ```Pythas``` knows about the data representation to expect for each type. So it knows how to convert the function types back and forth too. It will hide all of this implementation details from you though. Let's have a look:"
   ]
  },
  {
   "cell_type": "code",
   "execution_count": 3,
   "metadata": {},
   "outputs": [],
   "source": [
    "horrorScenario = w.runWonderland(\"horror\",200)"
   ]
  },
  {
   "cell_type": "markdown",
   "metadata": {},
   "source": [
    "The ```runWonderland``` function takes a string and an integer as arguments. The string specifies which of *Sanderson's* scenarios to run. Our return value should be a list of tuples with four fields.\n",
    "\n",
    "We can check if that's done correctly:"
   ]
  },
  {
   "cell_type": "code",
   "execution_count": 4,
   "metadata": {},
   "outputs": [
    {
     "data": {
      "text/plain": [
       "(list, tuple)"
      ]
     },
     "execution_count": 4,
     "metadata": {},
     "output_type": "execute_result"
    }
   ],
   "source": [
    "type(horrorScenario), type(horrorScenario[0])"
   ]
  },
  {
   "cell_type": "code",
   "execution_count": 5,
   "metadata": {},
   "outputs": [
    {
     "data": {
      "text/plain": [
       "(1.0, 0.98, 1.0, 1.0)"
      ]
     },
     "execution_count": 5,
     "metadata": {},
     "output_type": "execute_result"
    }
   ],
   "source": [
    "horrorScenario[0]"
   ]
  },
  {
   "cell_type": "markdown",
   "metadata": {},
   "source": [
    "Brilliant! \n",
    "\n",
    "Now why not visualize it?"
   ]
  },
  {
   "cell_type": "code",
   "execution_count": 6,
   "metadata": {},
   "outputs": [],
   "source": [
    "import matplotlib.pyplot as plt"
   ]
  },
  {
   "cell_type": "code",
   "execution_count": 7,
   "metadata": {},
   "outputs": [
    {
     "data": {
      "text/plain": [
       "[<matplotlib.lines.Line2D at 0x7f90148c7730>,\n",
       " <matplotlib.lines.Line2D at 0x7f90148c7820>,\n",
       " <matplotlib.lines.Line2D at 0x7f90148c78e0>]"
      ]
     },
     "execution_count": 7,
     "metadata": {},
     "output_type": "execute_result"
    },
    {
     "data": {
      "image/png": "[encoded data removed]",
      "text/plain": [
       "<Figure size 432x288 with 1 Axes>"
      ]
     },
     "metadata": {
      "needs_background": "light"
     },
     "output_type": "display_data"
    }
   ],
   "source": [
    "plt.plot([(b,c,d) for a,b,c,d in horrorScenario])"
   ]
  },
  {
   "cell_type": "markdown",
   "metadata": {},
   "source": [
    "### TADAAA\n",
    "\n",
    "The world comes to an end after ~110 years. It formally started in 1992, so we got some 80 years to go. Enjoy your life and code some Haskell :)"
   ]
  }
 ],
 "metadata": {
  "kernelspec": {
   "display_name": "Python 3",
   "language": "python",
   "name": "python3"
  },
  "language_info": {
   "codemirror_mode": {
    "name": "ipython",
    "version": 3
   },
   "file_extension": ".py",
   "mimetype": "text/x-python",
   "name": "python",
   "nbconvert_exporter": "python",
   "pygments_lexer": "ipython3",
   "version": "3.8.2"
  }
 },
 "nbformat": 4,
 "nbformat_minor": 4
}
